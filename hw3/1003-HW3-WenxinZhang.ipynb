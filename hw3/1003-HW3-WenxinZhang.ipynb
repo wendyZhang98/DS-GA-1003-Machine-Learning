{
 "cells": [
  {
   "cell_type": "code",
   "execution_count": 1,
   "metadata": {},
   "outputs": [],
   "source": [
    "from utils_svm_reviews import *\n",
    "from collections import Counter\n",
    "import time\n",
    "import numpy as np\n",
    "import matplotlib.pyplot as plt"
   ]
  },
  {
   "cell_type": "code",
   "execution_count": 2,
   "metadata": {},
   "outputs": [],
   "source": [
    "from IPython.core.interactiveshell import InteractiveShell\n",
    "InteractiveShell.ast_node_interactivity = \"all\" "
   ]
  },
  {
   "cell_type": "markdown",
   "metadata": {},
   "source": [
    "# Load and Shuffle the Data"
   ]
  },
  {
   "cell_type": "code",
   "execution_count": 3,
   "metadata": {},
   "outputs": [],
   "source": [
    "data = load_and_shuffle_data()"
   ]
  },
  {
   "cell_type": "code",
   "execution_count": 4,
   "metadata": {},
   "outputs": [
    {
     "data": {
      "text/plain": [
       "2000"
      ]
     },
     "execution_count": 4,
     "metadata": {},
     "output_type": "execute_result"
    }
   ],
   "source": [
    "# full text from 2000 movies reviews: 1000 reviews are classified as positive and 1000 as negative. \n",
    "len(data) "
   ]
  },
  {
   "cell_type": "code",
   "execution_count": 5,
   "metadata": {},
   "outputs": [
    {
     "data": {
      "text/plain": [
       "-1"
      ]
     },
     "execution_count": 5,
     "metadata": {},
     "output_type": "execute_result"
    }
   ],
   "source": [
    "# label\n",
    "data[0][-1] "
   ]
  },
  {
   "cell_type": "code",
   "execution_count": 6,
   "metadata": {},
   "outputs": [
    {
     "data": {
      "text/plain": [
       "454"
      ]
     },
     "execution_count": 6,
     "metadata": {},
     "output_type": "execute_result"
    }
   ],
   "source": [
    "len(data[0])"
   ]
  },
  {
   "cell_type": "code",
   "execution_count": 7,
   "metadata": {},
   "outputs": [
    {
     "data": {
      "text/plain": [
       "486"
      ]
     },
     "execution_count": 7,
     "metadata": {},
     "output_type": "execute_result"
    }
   ],
   "source": [
    "len(data[100])"
   ]
  },
  {
   "cell_type": "markdown",
   "metadata": {},
   "source": [
    "# Q5"
   ]
  },
  {
   "cell_type": "markdown",
   "metadata": {},
   "source": [
    "- Write a function that converts an example (a list of words) into a sparse bag-of-words representation. You may find Python’s Counter3 class to be useful here. Note that a Counter is itself a dictionary."
   ]
  },
  {
   "cell_type": "code",
   "execution_count": 8,
   "metadata": {},
   "outputs": [],
   "source": [
    "def construct_word_dict(lst_of_words):\n",
    "    \"\"\"\n",
    "    convert the given list of words into a sparse bag-of-words representation\n",
    "    \"\"\"\n",
    "    dict_of_words = Counter(lst_of_words)\n",
    "    \n",
    "    return dict_of_words\n"
   ]
  },
  {
   "cell_type": "code",
   "execution_count": 9,
   "metadata": {},
   "outputs": [],
   "source": [
    "# construct_word_dict(data[0][:-1])"
   ]
  },
  {
   "cell_type": "markdown",
   "metadata": {},
   "source": [
    "# Q6"
   ]
  },
  {
   "cell_type": "markdown",
   "metadata": {},
   "source": [
    "- Load all the data and split it into 1500 training examples and 500 validation examples. Format the training data as a list X train of dictionaries and y train as the list of corre- sponding 1 or -1 labels. Format the test set similarly."
   ]
  },
  {
   "cell_type": "code",
   "execution_count": 10,
   "metadata": {},
   "outputs": [],
   "source": [
    "class review:\n",
    "    def __init__(self, lst_of_words_):\n",
    "        self.lst_of_words = lst_of_words_[:-1]\n",
    "        self.dict_of_words = Counter(self.lst_of_words)\n",
    "        self.label = lst_of_words_[-1]"
   ]
  },
  {
   "cell_type": "code",
   "execution_count": 11,
   "metadata": {},
   "outputs": [],
   "source": [
    "X_train_lst_of_reviews = list(map(review, data[:1500]))\n",
    "X_val_lst_of_reviews = list(map(review, data[1500:2000]))"
   ]
  },
  {
   "cell_type": "code",
   "execution_count": 12,
   "metadata": {},
   "outputs": [],
   "source": [
    "X_train = [review.dict_of_words for review in X_train_lst_of_reviews]\n",
    "X_val = [review.dict_of_words for review in X_val_lst_of_reviews]"
   ]
  },
  {
   "cell_type": "code",
   "execution_count": 13,
   "metadata": {},
   "outputs": [],
   "source": [
    "y_train = [review.label for review in X_train_lst_of_reviews]\n",
    "y_val = [review.label for review in X_val_lst_of_reviews]"
   ]
  },
  {
   "cell_type": "code",
   "execution_count": 14,
   "metadata": {},
   "outputs": [
    {
     "data": {
      "text/plain": [
       "1500"
      ]
     },
     "execution_count": 14,
     "metadata": {},
     "output_type": "execute_result"
    },
    {
     "data": {
      "text/plain": [
       "500"
      ]
     },
     "execution_count": 14,
     "metadata": {},
     "output_type": "execute_result"
    }
   ],
   "source": [
    "len(X_train)\n",
    "len(X_val)"
   ]
  },
  {
   "cell_type": "markdown",
   "metadata": {},
   "source": [
    "# Q7"
   ]
  },
  {
   "cell_type": "code",
   "execution_count": 15,
   "metadata": {},
   "outputs": [],
   "source": [
    "def pegasos_algorithm(lst_of_reviews, epoch, lamb):\n",
    "    # initialization\n",
    "    np.random.seed(9)\n",
    "    \n",
    "    weight = Counter()\n",
    "    iter_num = 0\n",
    "    epoch_ = 1\n",
    "    \n",
    "    while epoch_ <= epoch:\n",
    "        shuffled_lst_of_reviews = np.random.choice(list(range(len(lst_of_reviews))), len(lst_of_reviews), replace=False)\n",
    "        for j in shuffled_lst_of_reviews:\n",
    "            iter_num += 1\n",
    "            eta = 1.0 / (iter_num * lamb)\n",
    "            increment(weight, - eta * lamb, weight)\n",
    "            condition = lst_of_reviews[j].label * dotProduct(lst_of_reviews[j].dict_of_words, weight)\n",
    "            if condition < 1:\n",
    "                increment(weight, eta * lst_of_reviews[j].label, lst_of_reviews[j].dict_of_words)\n",
    "        epoch_ += 1\n",
    "    return weight\n"
   ]
  },
  {
   "cell_type": "markdown",
   "metadata": {},
   "source": [
    "# Q8"
   ]
  },
  {
   "cell_type": "code",
   "execution_count": 16,
   "metadata": {},
   "outputs": [],
   "source": [
    "def pegasos_algorithm_fast(lst_of_reviews, epoch, lamb):\n",
    "    # initialization\n",
    "    np.random.seed(9)\n",
    "    \n",
    "    weight = Counter()\n",
    "    s = 1\n",
    "    iter_num = 1\n",
    "    epoch_ = 1\n",
    "    \n",
    "    while epoch_ <= epoch:\n",
    "        shuffled_lst_of_reviews = np.random.choice(list(range(len(lst_of_reviews))), len(lst_of_reviews), replace=False)\n",
    "        for i in shuffled_lst_of_reviews:\n",
    "            iter_num += 1\n",
    "            eta = 1.0 / (iter_num * lamb)\n",
    "            condition = lst_of_reviews[i].label * dotProduct(lst_of_reviews[i].dict_of_words, weight) * s\n",
    "            s = (1 - eta * lamb) * s\n",
    "            if  condition < 1:\n",
    "                increment(weight, eta * lst_of_reviews[i].label / s, lst_of_reviews[i].dict_of_words)\n",
    "        epoch_ += 1 \n",
    "        \n",
    "    epoch_weight = Counter()      \n",
    "    increment(epoch_weight, s, weight)\n",
    "\n",
    "    return epoch_weight\n"
   ]
  },
  {
   "cell_type": "markdown",
   "metadata": {},
   "source": [
    "# Q9"
   ]
  },
  {
   "cell_type": "code",
   "execution_count": 17,
   "metadata": {},
   "outputs": [
    {
     "name": "stdout",
     "output_type": "stream",
     "text": [
      "epoch:5pegasos_algorithm run time:70.50635290145874\n",
      "epoch:5pegasos_algorithm_fast run time:0.7125890254974365\n",
      "The square difference between the weight of pegasos_algorithm and the weight of pegasos_algorithm_fast is: 1.1139925353372174e-05\n"
     ]
    }
   ],
   "source": [
    "lamb_ = 0.01\n",
    "epoch = 5\n",
    "        \n",
    "start = time.time()\n",
    "weight_ = pegasos_algorithm(X_train_lst_of_reviews, epoch, lamb_)\n",
    "end = time.time()\n",
    "print('epoch:' + str(epoch) + 'pegasos_algorithm run time:' + str(end-start))\n",
    "\n",
    "start = time.time()\n",
    "weight_fast = pegasos_algorithm_fast(X_train_lst_of_reviews, epoch, lamb_)\n",
    "end = time.time()\n",
    "print('epoch:' + str(epoch) + 'pegasos_algorithm_fast run time:' + str(end-start))\n",
    "\n",
    "increment(weight_, -1, weight_fast)\n",
    "sqr_diff = dotProduct(weight_, weight_)\n",
    "print(\"The square difference between the weight of pegasos_algorithm and the weight of pegasos_algorithm_fast is: \"+ str(sqr_diff))\n"
   ]
  },
  {
   "cell_type": "markdown",
   "metadata": {},
   "source": [
    "# Q10"
   ]
  },
  {
   "cell_type": "code",
   "execution_count": 18,
   "metadata": {},
   "outputs": [],
   "source": [
    "def sign(review_dict_of_words, weight):\n",
    "    if dotProduct(review_dict_of_words, weight) > 0:\n",
    "        return 1\n",
    "    else:\n",
    "        return -1\n",
    "        \n",
    "def classification_error(weight, lst_of_reviews):\n",
    "    predict_true = [sign(review.dict_of_words, weight) != review.label for review in lst_of_reviews]\n",
    "    \n",
    "    return sum(predict_true)/len(predict_true)\n"
   ]
  },
  {
   "cell_type": "markdown",
   "metadata": {},
   "source": [
    "# Q11"
   ]
  },
  {
   "cell_type": "code",
   "execution_count": 19,
   "metadata": {
    "scrolled": true
   },
   "outputs": [
    {
     "data": {
      "image/png": "[encoded data removed]",
      "text/plain": [
       "<Figure size 576x432 with 1 Axes>"
      ]
     },
     "metadata": {
      "needs_background": "light"
     },
     "output_type": "display_data"
    }
   ],
   "source": [
    "param_lst = [10 ** n for n in range(-6, 3)]\n",
    "weight_list = []\n",
    "percent_err_list = []\n",
    "for lamb_ in param_lst:\n",
    "    weight_ = pegasos_algorithm_fast(lst_of_reviews=X_train_lst_of_reviews, epoch=100, lamb=lamb_)\n",
    "    weight_list.append(weight_)\n",
    "    per_err = classification_error(weight=weight_, lst_of_reviews=X_val_lst_of_reviews)\n",
    "    percent_err_list.append(per_err)"
   ]
  },
  {
   "cell_type": "markdown",
   "metadata": {},
   "source": [
    "# Q12"
   ]
  },
  {
   "cell_type": "code",
   "execution_count": 39,
   "metadata": {},
   "outputs": [],
   "source": [
    "# calculate the mean score for each group\n",
    "weight_ = pegasos_algorithm_fast(lst_of_reviews=X_train_lst_of_reviews, epoch=100, lamb=0.001)\n",
    "y_predict = []\n",
    "for reivew in X_val_lst_of_reviews:\n",
    "    y_predict.append(dotProduct(reivew.dict_of_words, weight_))\n",
    "    "
   ]
  },
  {
   "cell_type": "code",
   "execution_count": 86,
   "metadata": {},
   "outputs": [],
   "source": [
    "bin_size = 5\n",
    "group_num = int(len(y_predict)/bin_size)\n",
    "y_predict_group = np.array_split(y_predict, bin_size)\n",
    "group_mean_score = []\n",
    "group_per_error = []\n",
    "group_index = 0\n",
    "for group in y_predict_group:\n",
    "    group_mean_score.append(np.mean(group))\n",
    "    group_per_error.append(classification_error(weight=weight_, \\\n",
    "                                                lst_of_reviews=X_val_lst_of_reviews[group_num*group_index:\\\n",
    "                                                                                    group_num*(group_index+1)]))\n",
    "    group_index += 1"
   ]
  },
  {
   "cell_type": "code",
   "execution_count": 87,
   "metadata": {
    "scrolled": true
   },
   "outputs": [],
   "source": [
    "rank_index_lst = list(np.array(group_mean_score).argsort()) # ascending\n",
    "group_per_error_rank = [group_per_error[index] for index in rank_index_lst]\n",
    "group_mean_score_rank = np.sort(group_mean_score)"
   ]
  },
  {
   "cell_type": "code",
   "execution_count": 90,
   "metadata": {},
   "outputs": [
    {
     "data": {
      "image/png": "[encoded data removed]",
      "text/plain": [
       "<Figure size 432x288 with 1 Axes>"
      ]
     },
     "metadata": {
      "needs_background": "light"
     },
     "output_type": "display_data"
    }
   ],
   "source": [
    "plt.plot(group_mean_score_rank, group_per_error_rank)\n",
    "plt.title(f'Percentage Error VS Average Score For the {bin_size} groups')\n",
    "plt.xlabel('Average Score')\n",
    "plt.ylabel('Percentage Error')\n",
    "plt.show();"
   ]
  },
  {
   "cell_type": "code",
   "execution_count": null,
   "metadata": {},
   "outputs": [],
   "source": []
  },
  {
   "cell_type": "code",
   "execution_count": null,
   "metadata": {},
   "outputs": [],
   "source": []
  }
 ],
 "metadata": {
  "kernelspec": {
   "display_name": "Python 3",
   "language": "python",
   "name": "python3"
  },
  "language_info": {
   "codemirror_mode": {
    "name": "ipython",
    "version": 3
   },
   "file_extension": ".py",
   "mimetype": "text/x-python",
   "name": "python",
   "nbconvert_exporter": "python",
   "pygments_lexer": "ipython3",
   "version": "3.8.3"
  }
 },
 "nbformat": 4,
 "nbformat_minor": 4
}
