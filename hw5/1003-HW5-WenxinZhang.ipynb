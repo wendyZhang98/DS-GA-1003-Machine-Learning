{
 "cells": [
  {
   "cell_type": "markdown",
   "metadata": {},
   "source": [
    "### Solution to Question 1: Show that $J(w)$ is a convex function of w, where $J(w)=\\lambda\\|w\\|^{2}+\\frac{1}{n}\\sum_{i=1}^{n}\\max_{y\\in Y}\\left[\\Delta\\left(y_{i},y\\right)+\\left\\langle w,\\Psi(x_{i},y)-\\Psi(x_{i},y_{i})\\right\\rangle \\right]$\n",
    "\n",
    "\n",
    "- Since $\\max_{y\\in\\ Y}\\left[\\Delta\\left(y_{i},y\\right)+\\left\\langle w,\\Psi(x_{i},y)-\\Psi(x_{i},y_{i})\\right\\rangle \\right]$ is a convex function of w, the sum of it (i.e. $\\sum_{i=1}^{n}\\max_{y\\in Y}\\left[\\Delta\\left(y_{i},y\\right)+\\left\\langle w,\\Psi(x_{i},y)-\\Psi(x_{i},y_{i})\\right\\rangle \\right]$) is also a convex function of w.\n",
    "\n",
    "\n",
    "- Since $\\|w\\|$ is a convex function of w, $\\|w\\|^{2}$ and $\\lambda\\|w\\|^{2}$ are both convex functions of w.\n",
    "\n",
    "\n",
    "- By summation of convex functions is still convex, thereupon, it's proved that $J(w)=\\lambda\\|w\\|^{2}+\\frac{1}{n}\\sum_{i=1}^{n}\\max_{y\\in\\ Y}\\left[\\Delta\\left(y_{i},y\\right)+\\left\\langle w,\\Psi(x_{i},y)-\\Psi(x_{i},y_{i})\\right\\rangle \\right]$ is a convex function of w.  "
   ]
  },
  {
   "cell_type": "markdown",
   "metadata": {},
   "source": [
    "### Solution to Question 2: Give an expression for a subgradient of $J(w)$."
   ]
  },
  {
   "cell_type": "markdown",
   "metadata": {},
   "source": [
    "- In this setting, $J(w)=\\lambda\\|w\\|^{2}+\\frac{1}{n}\\sum_{i=1}^{n}\\max_{y\\in Y}\\left[\\Delta\\left(y_{i},y\\right)+\\left\\langle w,\\Psi(x_{i},y)-\\Psi(x_{i},y_{i})\\right\\rangle \\right]$\n",
    "\n",
    "- Given that $\\hat{y}_{i}=\\mathop{\\arg\\max}_{y\\in Y}\\left[\\Delta\\left(y_{i},y\\right)+\\left\\langle w,\\Psi(x_{i},y)-\\Psi(x_{i},y_{i})\\right\\rangle \\right]$\n",
    "\n",
    "- we have $J(w)=\\lambda\\|w\\|^{2}+\\frac{1}{n}\\sum_{i=1}^{n}\\left[\\Delta\\left(y_{i},\\hat{y}_{i}\\right)+\\left\\langle w,\\Psi(x_{i},\\hat{y}_{i})-\\Psi(x_{i},y_{i})\\right\\rangle \\right]$\n",
    "\n",
    "- Thus the subgradient of $J(w)$ is $\\bigtriangledown J(w)=2\\lambda w+\\frac 1n\\sum_{i=1}^{n}\\left[ \\Psi(x_{i},\\hat{y}_{i})-\\Psi(x_{i},y_{i}) \\right]$ "
   ]
  },
  {
   "cell_type": "markdown",
   "metadata": {},
   "source": [
    "### Solution to Question 3: Give an expression for the stochastic subgradient based on the point $(x_i, y_i)$."
   ]
  },
  {
   "cell_type": "markdown",
   "metadata": {},
   "source": [
    "- $$2\\lambda w +(\\Psi(x_{i},\\hat{y}_{i})-\\Psi(x_{i},y_{i}))$$"
   ]
  },
  {
   "cell_type": "markdown",
   "metadata": {},
   "source": [
    "### Solution to Qustion 4: Give an expression for a minibatch subgradient based on the points $(x_i, y_i) ··· (x_{i+m-1}, y_{i+m-1})$."
   ]
  },
  {
   "cell_type": "markdown",
   "metadata": {},
   "source": [
    "- $$2\\lambda w +\\frac 1m \\sum_{i=1}^{i+m-1} (\\Psi(x_{i},\\hat{y}_{i})-\\Psi(x_{i},y_{i}))$$"
   ]
  },
  {
   "cell_type": "markdown",
   "metadata": {},
   "source": [
    "### Solution to the (optional) Question: show that for the choice of h mentioned, the multiclass hinge loss reduces to hinge loss: $\\ell\\left(h,\\left(x,y\\right)\\right)=\\max_{y'\\in Y}\\left[\\Delta\\left(y,y'\\right)+h(x,y')-h(x,y)\\right]=\\max\\left\\{ 0,1-yg(x)\\right\\}$"
   ]
  },
  {
   "cell_type": "markdown",
   "metadata": {},
   "source": [
    "- When $y= y'$, we have $\\Delta(y,\\hat{y})=0$\n",
    "$$l(h,(x,y))=\\max_{y'\\in Y}\\left[0+h(x,y')-h(x,y)\\right] = 0$$\n",
    "\n",
    "- When $y\\not = y'$, with y=1 & y'=-1 , we have $\\Delta(y,\\hat{y})=1$\n",
    "\\begin{align*}\n",
    "  l(h,(x,y))&=\\max_{y'\\in Y}\\left[\\Delta\\left(y,y'\\right)+h(x, y')-h(x,y)\\right]\\\\\n",
    "  &=\\max_{y'\\in Y}[1+h(x,-1)-h(x,1)]\\\\\n",
    "  &=\\max_{y'\\in Y}(1-\\frac{g(x)}2 -\\frac{g(x)}2)\\\\\n",
    "  &=\\max\\{0,1-yg(x)\\}\n",
    "\\end{align*}\n",
    "\n",
    "- When $y\\not = y'$, with y=-1 & y'=1, we have $\\Delta(y,\\hat{y})=1$\n",
    "\\begin{align*}\n",
    "  l(h,(x,y))&=\\max_{y'\\in\\ Y}\\left[\\Delta\\left(y,y'\\right)+h(x,y')-h(x,y)\\right]\\\\\n",
    "  &=\\max_{y'\\in Y}[1+h(x,1)-h(x,-1)]\\\\\n",
    "  &=\\max_{y'\\in Y}(1+\\frac{g(x)}2 +\\frac{g(x)}2)\\\\\n",
    "  &=\\max\\{0,1-yg(x)\\}\n",
    "\\end{align*}\n",
    "\n",
    "\n",
    "To sum up, it is shown that for this choice of h, we have $$\\ell\\left(h,\\left(x,y\\right)\\right)=\\max_{y'\\in Y}\\left[\\Delta\\left(y,y'\\right)+h(x,y')-h(x,y)\\right]=\\max\\left\\{ 0,1-yg(x)\\right\\} $$"
   ]
  }
 ],
 "metadata": {
  "hide_input": false,
  "kernelspec": {
   "display_name": "Python 3",
   "language": "python",
   "name": "python3"
  },
  "language_info": {
   "codemirror_mode": {
    "name": "ipython",
    "version": 3
   },
   "file_extension": ".py",
   "mimetype": "text/x-python",
   "name": "python",
   "nbconvert_exporter": "python",
   "pygments_lexer": "ipython3",
   "version": "3.8.3"
  },
  "latex_envs": {
   "LaTeX_envs_menu_present": true,
   "autoclose": false,
   "autocomplete": true,
   "bibliofile": "biblio.bib",
   "cite_by": "apalike",
   "current_citInitial": 1,
   "eqLabelWithNumbers": true,
   "eqNumInitial": 1,
   "hotkeys": {
    "equation": "Ctrl-E",
    "itemize": "Ctrl-I"
   },
   "labels_anchors": false,
   "latex_user_defs": false,
   "report_style_numbering": false,
   "user_envs_cfg": false
  },
  "nbTranslate": {
   "displayLangs": [
    "*"
   ],
   "hotkey": "alt-t",
   "langInMainMenu": true,
   "sourceLang": "en",
   "targetLang": "fr",
   "useGoogleTranslate": true
  },
  "toc": {
   "base_numbering": 1,
   "nav_menu": {},
   "number_sections": true,
   "sideBar": true,
   "skip_h1_title": false,
   "title_cell": "Table of Contents",
   "title_sidebar": "Contents",
   "toc_cell": false,
   "toc_position": {},
   "toc_section_display": true,
   "toc_window_display": false
  },
  "varInspector": {
   "cols": {
    "lenName": 16,
    "lenType": 16,
    "lenVar": 40
   },
   "kernels_config": {
    "python": {
     "delete_cmd_postfix": "",
     "delete_cmd_prefix": "del ",
     "library": "var_list.py",
     "varRefreshCmd": "print(var_dic_list())"
    },
    "r": {
     "delete_cmd_postfix": ") ",
     "delete_cmd_prefix": "rm(",
     "library": "var_list.r",
     "varRefreshCmd": "cat(var_dic_list()) "
    }
   },
   "types_to_exclude": [
    "module",
    "function",
    "builtin_function_or_method",
    "instance",
    "_Feature"
   ],
   "window_display": false
  }
 },
 "nbformat": 4,
 "nbformat_minor": 4
}
