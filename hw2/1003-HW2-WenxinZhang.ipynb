{
 "cells": [
  {
   "cell_type": "code",
   "execution_count": 1,
   "metadata": {
    "scrolled": true
   },
   "outputs": [
    {
     "name": "stdout",
     "output_type": "stream",
     "text": [
      "1003-HW2-WenxinZhang.ipynb           mnist_classification_source_code.py\r\n",
      "hw2.pdf                              ridge_regression_dataset.csv\r\n",
      "hw2.tex                              skeleton_code.py\r\n",
      "math_commands.tex\r\n"
     ]
    }
   ],
   "source": [
    "ls"
   ]
  },
  {
   "cell_type": "markdown",
   "metadata": {},
   "source": [
    "# Import "
   ]
  },
  {
   "cell_type": "code",
   "execution_count": 2,
   "metadata": {},
   "outputs": [],
   "source": [
    "import sys\n",
    "import numpy as np\n",
    "import pandas as pd\n",
    "import matplotlib.pyplot as plt\n",
    "from sklearn.model_selection import train_test_split\n",
    "import warnings\n",
    "warnings.filterwarnings('ignore')"
   ]
  },
  {
   "cell_type": "markdown",
   "metadata": {},
   "source": [
    "# Data "
   ]
  },
  {
   "cell_type": "code",
   "execution_count": 3,
   "metadata": {},
   "outputs": [],
   "source": [
    "import pandas as pd"
   ]
  },
  {
   "cell_type": "code",
   "execution_count": 4,
   "metadata": {
    "scrolled": false
   },
   "outputs": [
    {
     "data": {
      "text/html": [
       "<div>\n",
       "<style scoped>\n",
       "    .dataframe tbody tr th:only-of-type {\n",
       "        vertical-align: middle;\n",
       "    }\n",
       "\n",
       "    .dataframe tbody tr th {\n",
       "        vertical-align: top;\n",
       "    }\n",
       "\n",
       "    .dataframe thead th {\n",
       "        text-align: right;\n",
       "    }\n",
       "</style>\n",
       "<table border=\"1\" class=\"dataframe\">\n",
       "  <thead>\n",
       "    <tr style=\"text-align: right;\">\n",
       "      <th></th>\n",
       "      <th>x0</th>\n",
       "      <th>x1</th>\n",
       "      <th>x2</th>\n",
       "      <th>x3</th>\n",
       "      <th>x4</th>\n",
       "      <th>x5</th>\n",
       "      <th>x6</th>\n",
       "      <th>x7</th>\n",
       "      <th>x8</th>\n",
       "      <th>x9</th>\n",
       "      <th>...</th>\n",
       "      <th>x39</th>\n",
       "      <th>x40</th>\n",
       "      <th>x41</th>\n",
       "      <th>x42</th>\n",
       "      <th>x43</th>\n",
       "      <th>x44</th>\n",
       "      <th>x45</th>\n",
       "      <th>x46</th>\n",
       "      <th>x47</th>\n",
       "      <th>y</th>\n",
       "    </tr>\n",
       "  </thead>\n",
       "  <tbody>\n",
       "    <tr>\n",
       "      <th>0</th>\n",
       "      <td>0.0</td>\n",
       "      <td>0.0</td>\n",
       "      <td>0.0</td>\n",
       "      <td>0.0</td>\n",
       "      <td>0.0</td>\n",
       "      <td>0.0</td>\n",
       "      <td>0.0</td>\n",
       "      <td>0.0</td>\n",
       "      <td>0.0</td>\n",
       "      <td>0.0</td>\n",
       "      <td>...</td>\n",
       "      <td>-0.951051</td>\n",
       "      <td>-0.951051</td>\n",
       "      <td>-4.755257</td>\n",
       "      <td>-0.866019</td>\n",
       "      <td>-0.866019</td>\n",
       "      <td>-4.330093</td>\n",
       "      <td>-0.781824</td>\n",
       "      <td>-0.781824</td>\n",
       "      <td>-3.909121</td>\n",
       "      <td>-1.376575</td>\n",
       "    </tr>\n",
       "    <tr>\n",
       "      <th>1</th>\n",
       "      <td>0.0</td>\n",
       "      <td>0.0</td>\n",
       "      <td>0.0</td>\n",
       "      <td>0.0</td>\n",
       "      <td>0.0</td>\n",
       "      <td>0.0</td>\n",
       "      <td>0.0</td>\n",
       "      <td>0.0</td>\n",
       "      <td>0.0</td>\n",
       "      <td>0.0</td>\n",
       "      <td>...</td>\n",
       "      <td>-0.948871</td>\n",
       "      <td>-0.948871</td>\n",
       "      <td>-4.744353</td>\n",
       "      <td>-0.863095</td>\n",
       "      <td>-0.863095</td>\n",
       "      <td>-4.315474</td>\n",
       "      <td>-0.778705</td>\n",
       "      <td>-0.778705</td>\n",
       "      <td>-3.893525</td>\n",
       "      <td>0.878782</td>\n",
       "    </tr>\n",
       "    <tr>\n",
       "      <th>2</th>\n",
       "      <td>0.0</td>\n",
       "      <td>0.0</td>\n",
       "      <td>0.0</td>\n",
       "      <td>0.0</td>\n",
       "      <td>0.0</td>\n",
       "      <td>0.0</td>\n",
       "      <td>0.0</td>\n",
       "      <td>0.0</td>\n",
       "      <td>0.0</td>\n",
       "      <td>0.0</td>\n",
       "      <td>...</td>\n",
       "      <td>-0.948056</td>\n",
       "      <td>-0.948056</td>\n",
       "      <td>-4.740279</td>\n",
       "      <td>-0.862011</td>\n",
       "      <td>-0.862011</td>\n",
       "      <td>-4.310053</td>\n",
       "      <td>-0.777551</td>\n",
       "      <td>-0.777551</td>\n",
       "      <td>-3.887757</td>\n",
       "      <td>1.108701</td>\n",
       "    </tr>\n",
       "    <tr>\n",
       "      <th>3</th>\n",
       "      <td>0.0</td>\n",
       "      <td>0.0</td>\n",
       "      <td>0.0</td>\n",
       "      <td>0.0</td>\n",
       "      <td>0.0</td>\n",
       "      <td>0.0</td>\n",
       "      <td>0.0</td>\n",
       "      <td>0.0</td>\n",
       "      <td>0.0</td>\n",
       "      <td>0.0</td>\n",
       "      <td>...</td>\n",
       "      <td>-0.941999</td>\n",
       "      <td>-0.941999</td>\n",
       "      <td>-4.709996</td>\n",
       "      <td>-0.854081</td>\n",
       "      <td>-0.854081</td>\n",
       "      <td>-4.270406</td>\n",
       "      <td>-0.769161</td>\n",
       "      <td>-0.769161</td>\n",
       "      <td>-3.845805</td>\n",
       "      <td>0.519229</td>\n",
       "    </tr>\n",
       "    <tr>\n",
       "      <th>4</th>\n",
       "      <td>0.0</td>\n",
       "      <td>0.0</td>\n",
       "      <td>0.0</td>\n",
       "      <td>0.0</td>\n",
       "      <td>0.0</td>\n",
       "      <td>0.0</td>\n",
       "      <td>0.0</td>\n",
       "      <td>0.0</td>\n",
       "      <td>0.0</td>\n",
       "      <td>0.0</td>\n",
       "      <td>...</td>\n",
       "      <td>-0.939440</td>\n",
       "      <td>-0.939440</td>\n",
       "      <td>-4.697202</td>\n",
       "      <td>-0.850794</td>\n",
       "      <td>-0.850794</td>\n",
       "      <td>-4.253972</td>\n",
       "      <td>-0.765706</td>\n",
       "      <td>-0.765706</td>\n",
       "      <td>-3.828531</td>\n",
       "      <td>0.772872</td>\n",
       "    </tr>\n",
       "  </tbody>\n",
       "</table>\n",
       "<p>5 rows × 49 columns</p>\n",
       "</div>"
      ],
      "text/plain": [
       "    x0   x1   x2   x3   x4   x5   x6   x7   x8   x9  ...       x39       x40  \\\n",
       "0  0.0  0.0  0.0  0.0  0.0  0.0  0.0  0.0  0.0  0.0  ... -0.951051 -0.951051   \n",
       "1  0.0  0.0  0.0  0.0  0.0  0.0  0.0  0.0  0.0  0.0  ... -0.948871 -0.948871   \n",
       "2  0.0  0.0  0.0  0.0  0.0  0.0  0.0  0.0  0.0  0.0  ... -0.948056 -0.948056   \n",
       "3  0.0  0.0  0.0  0.0  0.0  0.0  0.0  0.0  0.0  0.0  ... -0.941999 -0.941999   \n",
       "4  0.0  0.0  0.0  0.0  0.0  0.0  0.0  0.0  0.0  0.0  ... -0.939440 -0.939440   \n",
       "\n",
       "        x41       x42       x43       x44       x45       x46       x47  \\\n",
       "0 -4.755257 -0.866019 -0.866019 -4.330093 -0.781824 -0.781824 -3.909121   \n",
       "1 -4.744353 -0.863095 -0.863095 -4.315474 -0.778705 -0.778705 -3.893525   \n",
       "2 -4.740279 -0.862011 -0.862011 -4.310053 -0.777551 -0.777551 -3.887757   \n",
       "3 -4.709996 -0.854081 -0.854081 -4.270406 -0.769161 -0.769161 -3.845805   \n",
       "4 -4.697202 -0.850794 -0.850794 -4.253972 -0.765706 -0.765706 -3.828531   \n",
       "\n",
       "          y  \n",
       "0 -1.376575  \n",
       "1  0.878782  \n",
       "2  1.108701  \n",
       "3  0.519229  \n",
       "4  0.772872  \n",
       "\n",
       "[5 rows x 49 columns]"
      ]
     },
     "execution_count": 4,
     "metadata": {},
     "output_type": "execute_result"
    }
   ],
   "source": [
    "data = pd.read_csv('ridge_regression_dataset.csv')\n",
    "data.head()"
   ]
  },
  {
   "cell_type": "markdown",
   "metadata": {},
   "source": [
    "# Functions"
   ]
  },
  {
   "cell_type": "code",
   "execution_count": 5,
   "metadata": {},
   "outputs": [],
   "source": [
    "def load_data():\n",
    "    #Loading the dataset\n",
    "    print('loading the dataset')\n",
    "\n",
    "    df = pd.read_csv('ridge_regression_dataset.csv', delimiter=',')\n",
    "    X = df.values[:,:-1]\n",
    "    y = df.values[:,-1]\n",
    "\n",
    "    print('Split into Train and Test')\n",
    "    X_train, X_test, y_train, y_test = train_test_split(X, y, test_size=100, random_state=10)\n",
    "\n",
    "    print(\"Scaling all to [0, 1]\")\n",
    "    X_train, X_test = feature_normalization(X_train, X_test)\n",
    "    X_train = np.hstack((X_train, np.ones((X_train.shape[0], 1))))  # Add bias term\n",
    "    X_test = np.hstack((X_test, np.ones((X_test.shape[0], 1))))\n",
    "    \n",
    "    return X_train, y_train, X_test, y_test"
   ]
  },
  {
   "cell_type": "markdown",
   "metadata": {},
   "source": [
    "### Answer to Question_1"
   ]
  },
  {
   "cell_type": "code",
   "execution_count": 6,
   "metadata": {},
   "outputs": [],
   "source": [
    "### Feature normalization\n",
    "def feature_normalization(train, test):\n",
    "    \"\"\"Rescale the data so that each feature in the training set is in\n",
    "    the interval [0,1], and apply the same transformations to the test\n",
    "    set, using the statistics computed on the training set.\n",
    "\n",
    "    Args:\n",
    "        train - training set, a 2D numpy array of size(num_instances, num_features)\n",
    "        test - test set, a 2D numpy array of size(num_instances, num_features)\n",
    "\n",
    "    Returns:\n",
    "        train_normalized - training set after normalization\n",
    "        test_normalized - test set after normalization\n",
    "    \"\"\"\n",
    "    # TODO\n",
    "    \n",
    "    # discard the features with constant values\n",
    "    # since they cannot be normalized \n",
    "    train = train[:, train.std(axis=0) != 0] \n",
    "    \n",
    "    # feature normalization; [0, 1] \n",
    "    # shift and rescale\n",
    "    min_val, max_val = train.min(axis=0), train.max(axis=0)\n",
    "    \n",
    "    train_normalized = (train - min_val)/(max_val - min_val)\n",
    "    test_normalized = (test - min_val)/(max_val - min_val)\n",
    "    \n",
    "    return train_normalized, test_normalized"
   ]
  },
  {
   "cell_type": "code",
   "execution_count": 7,
   "metadata": {
    "scrolled": false
   },
   "outputs": [
    {
     "name": "stdout",
     "output_type": "stream",
     "text": [
      "loading the dataset\n",
      "Split into Train and Test\n",
      "Scaling all to [0, 1]\n"
     ]
    }
   ],
   "source": [
    "train_X, train_y, test_X, test_y = load_data()"
   ]
  },
  {
   "cell_type": "markdown",
   "metadata": {},
   "source": [
    "### Answer to Question_2"
   ]
  },
  {
   "cell_type": "markdown",
   "metadata": {},
   "source": [
    "$$\n",
    "J(\\theta)=\\frac{1}{m}(X\\theta-y)^T(X\\theta-y)\n",
    "$$"
   ]
  },
  {
   "cell_type": "markdown",
   "metadata": {},
   "source": [
    "### Answer to Question_3"
   ]
  },
  {
   "cell_type": "markdown",
   "metadata": {},
   "source": [
    "$$\n",
    "\\nabla J(\\theta)\n",
    "=\\nabla J(\\frac{1}{m}(\\theta^TX^TX\\theta-\\theta^TX^Ty-y^TX\\theta+X^Ty))\n",
    "=\\frac{2}{m}(X^TX\\theta-X^Ty)\n",
    "$$ "
   ]
  },
  {
   "cell_type": "markdown",
   "metadata": {},
   "source": [
    "### Answer to Question_4"
   ]
  },
  {
   "cell_type": "markdown",
   "metadata": {},
   "source": [
    "$$\n",
    "\\theta^{new}=\\theta-\\eta \\bigtriangledown J(\\theta)\n",
    "=\\theta-\\frac{2\\eta}{m}(X^TX\\theta-X^Ty)\n",
    "$$"
   ]
  },
  {
   "cell_type": "markdown",
   "metadata": {},
   "source": [
    "### Answer to Question_5"
   ]
  },
  {
   "cell_type": "code",
   "execution_count": 8,
   "metadata": {},
   "outputs": [],
   "source": [
    "### The square loss function\n",
    "def compute_square_loss(X, y, theta):\n",
    "    \"\"\"\n",
    "    Given a set of X, y, theta, compute the average square loss for predicting y with X*theta.\n",
    "\n",
    "    Args:\n",
    "        X - the feature vector, 2D numpy array of size(num_instances, num_features)\n",
    "        y - the label vector, 1D numpy array of size(num_instances)\n",
    "        theta - the parameter vector, 1D array of size(num_features)\n",
    "\n",
    "    Returns:\n",
    "        loss - the average square loss, scalar\n",
    "    \"\"\"\n",
    "    #TODO\n",
    "    \n",
    "    m = X.shape[0]\n",
    "    loss = 1/m * np.linalg.norm (X @ theta - y) ** 2\n",
    "    \n",
    "    return loss"
   ]
  },
  {
   "cell_type": "code",
   "execution_count": 54,
   "metadata": {},
   "outputs": [
    {
     "data": {
      "text/plain": [
       "882.8685220487787"
      ]
     },
     "execution_count": 54,
     "metadata": {},
     "output_type": "execute_result"
    }
   ],
   "source": [
    "from sklearn.metrics import mean_squared_error as mse\n",
    "X = train_X\n",
    "y = train_y\n",
    "theta = [1]*train_X.shape[1]\n",
    "compute_square_loss(X,y,theta) # 882.8685220487787\n",
    "mse(y, X@theta) # 882.8685220487786"
   ]
  },
  {
   "cell_type": "markdown",
   "metadata": {},
   "source": [
    "### Answer to Question_6"
   ]
  },
  {
   "cell_type": "code",
   "execution_count": 10,
   "metadata": {},
   "outputs": [],
   "source": [
    "### The gradient of the square loss function\n",
    "def compute_square_loss_gradient(X, y, theta):\n",
    "    \"\"\"\n",
    "    Compute the gradient of the average square loss(as defined in compute_square_loss), at the point theta.\n",
    "\n",
    "    Args:\n",
    "        X - the feature vector, 2D numpy array of size(num_instances, num_features)\n",
    "        y - the label vector, 1D numpy array of size(num_instances)\n",
    "        theta - the parameter vector, 1D numpy array of size(num_features)\n",
    "\n",
    "    Returns:\n",
    "        grad - gradient vector, 1D numpy array of size(num_features)\n",
    "    \"\"\"\n",
    "    #TODO\n",
    "    \n",
    "    m = X.shape[0]\n",
    "    grad = 2/m * (X.T @ X @ theta - X.T @ y)\n",
    "    \n",
    "    return grad"
   ]
  },
  {
   "cell_type": "code",
   "execution_count": 11,
   "metadata": {},
   "outputs": [
    {
     "data": {
      "text/plain": [
       "array([2., 4., 6.])"
      ]
     },
     "execution_count": 11,
     "metadata": {},
     "output_type": "execute_result"
    }
   ],
   "source": [
    "# To very this answer:\n",
    "# X = np.array([[1,2,3],[1,2,3]])\n",
    "# y = np.array([5,5])\n",
    "# theta = np.array([1,1,1])\n",
    "compute_square_loss_gradient(X,y,theta) \n",
    "\n",
    "# Computed by hand, the grad is the same as the return of the func\n",
    "# Thus, it is verfied this func works well"
   ]
  },
  {
   "cell_type": "markdown",
   "metadata": {},
   "source": [
    "### Answer to Question_7"
   ]
  },
  {
   "cell_type": "code",
   "execution_count": 12,
   "metadata": {},
   "outputs": [],
   "source": [
    "### Gradient checker\n",
    "#Getting the gradient calculation correct is often the trickiest part\n",
    "#of any gradient-based optimization algorithm. Fortunately, it's very\n",
    "#easy to check that the gradient calculation is correct using the\n",
    "#definition of gradient.\n",
    "#See http://ufldl.stanford.edu/wiki/index.php/Gradient_checking_and_advanced_optimization\n",
    "def grad_checker(X, y, theta, epsilon=0.01, tolerance=1e-4):\n",
    "    \"\"\"Implement Gradient Checker\n",
    "    Check that the function compute_square_loss_gradient returns the\n",
    "    correct gradient for the given X, y, and theta.\n",
    "\n",
    "    Let d be the number of features. Here we numerically estimate the\n",
    "    gradient by approximating the directional derivative in each of\n",
    "    the d coordinate directions:\n",
    "(e_1 =(1,0,0,...,0), e_2 =(0,1,0,...,0), ..., e_d =(0,...,0,1))\n",
    "\n",
    "    The approximation for the directional derivative of J at the point\n",
    "    theta in the direction e_i is given by:\n",
    "(J(theta + epsilon * e_i) - J(theta - epsilon * e_i)) /(2*epsilon).\n",
    "\n",
    "    We then look at the Euclidean distance between the gradient\n",
    "    computed using this approximation and the gradient computed by\n",
    "    compute_square_loss_gradient(X, y, theta).  If the Euclidean\n",
    "    distance exceeds tolerance, we say the gradient is incorrect.\n",
    "\n",
    "    Args:\n",
    "        X - the feature vector, 2D numpy array of size(num_instances, num_features)\n",
    "        y - the label vector, 1D numpy array of size(num_instances)\n",
    "        theta - the parameter vector, 1D numpy array of size(num_features)\n",
    "        epsilon - the epsilon used in approximation\n",
    "        tolerance - the tolerance error\n",
    "\n",
    "    Return:\n",
    "        A boolean value indicating whether the gradient is correct or not\n",
    "    \"\"\"\n",
    "    true_gradient = compute_square_loss_gradient(X, y, theta) #The true gradient\n",
    "    num_features = theta.shape[0]\n",
    "    approx_grad = np.zeros(num_features) #Initialize the gradient we approximate\n",
    "    #TODO\n",
    "\n",
    "    for i in range(num_features):\n",
    "        e_i = np.zeros(num_features)\n",
    "        e_i[i] = 1\n",
    "        approx_grad[i] = (compute_square_loss(X, y, theta + epsilon * e_i) - compute_square_loss(X, y, theta - epsilon * e_i)) / (2 * epsilon)\n",
    "\n",
    "    euc_dist = np.linalg.norm(approx_grad - true_gradient)\n",
    "    return euc_dist <= tolerance\n"
   ]
  },
  {
   "cell_type": "code",
   "execution_count": 13,
   "metadata": {},
   "outputs": [],
   "source": [
    "### Generic gradient checker\n",
    "def generic_gradient_checker(X, y, theta, objective_func, gradient_func, \n",
    "                             epsilon=0.01, tolerance=1e-4):\n",
    "    \"\"\"\n",
    "    The functions takes objective_func and gradient_func as parameters. \n",
    "    And check whether gradient_func(X, y, theta) returned the true \n",
    "    gradient for objective_func(X, y, theta).\n",
    "    Eg: In LSR, the objective_func = compute_square_loss, and gradient_func = compute_square_loss_gradient\n",
    "    \"\"\"\n",
    "    #TODO\n",
    "    \n",
    "    true_gradient = gradient_func(X, y, theta) #The true gradient\n",
    "    num_features = theta.shape[0]\n",
    "    approx_grad = np.zeros(num_features) #Initialize the gradient we approximate\n",
    "    \n",
    "    for i in range(num_features):\n",
    "        e_i = np.zeros(num_features)\n",
    "        e_i[i] = 1\n",
    "        approx_grad[i] = (objective_func(X, y, theta + epsilon * e_i) - objective_func(X, y, theta - epsilon * e_i)) / (2 * epsilon)\n",
    "\n",
    "    euc_dist = np.linalg.norm(approx_grad - true_gradient)\n",
    "    return euc_dist <= tolerance\n"
   ]
  },
  {
   "cell_type": "code",
   "execution_count": 14,
   "metadata": {},
   "outputs": [
    {
     "data": {
      "text/plain": [
       "True"
      ]
     },
     "execution_count": 14,
     "metadata": {},
     "output_type": "execute_result"
    }
   ],
   "source": [
    "#Test\n",
    "theta = np.array([0]*train_X.shape[1])\n",
    "grad_checker(train_X, train_y, theta, epsilon=0.01, tolerance=1e-4)"
   ]
  },
  {
   "cell_type": "code",
   "execution_count": 15,
   "metadata": {},
   "outputs": [
    {
     "data": {
      "text/plain": [
       "True"
      ]
     },
     "execution_count": 15,
     "metadata": {},
     "output_type": "execute_result"
    }
   ],
   "source": [
    "#Test\n",
    "generic_gradient_checker(train_X, train_y, theta, compute_square_loss, compute_square_loss_gradient, epsilon=0.01, tolerance=1e-4)"
   ]
  },
  {
   "cell_type": "markdown",
   "metadata": {},
   "source": [
    "### Answer to Question_8"
   ]
  },
  {
   "cell_type": "code",
   "execution_count": 16,
   "metadata": {},
   "outputs": [],
   "source": [
    "### Batch gradient descent\n",
    "def batch_grad_descent(X, y, alpha=0.1, num_step=1000, grad_check=True):\n",
    "    \"\"\"\n",
    "    In this question you will implement batch gradient descent to\n",
    "    minimize the average square loss objective.\n",
    "\n",
    "    Args:\n",
    "        X - the feature vector, 2D numpy array of size(num_instances, num_features)\n",
    "        y - the label vector, 1D numpy array of size(num_instances)\n",
    "        alpha - step size in gradient descent\n",
    "        num_step - number of steps to run\n",
    "        grad_check - a boolean value indicating whether checking the gradient when updating\n",
    "\n",
    "    Returns:\n",
    "        theta_hist - the history of parameter vector, 2D numpy array of size(num_step+1, num_features)\n",
    "                     for instance, theta in step 0 should be theta_hist[0], theta in step(num_step) is theta_hist[-1]\n",
    "        loss_hist - the history of average square loss on the data, 1D numpy array,(num_step+1)\n",
    "    \"\"\"\n",
    "    num_instances, num_features = X.shape[0], X.shape[1]\n",
    "    theta_hist = np.zeros((num_step + 1, num_features))  #Initialize theta_hist\n",
    "    loss_hist = np.zeros(num_step + 1)  #Initialize loss_hist\n",
    "    theta = np.zeros(num_features)  #Initialize theta\n",
    "    #TODO\n",
    "    \n",
    "    # whether checking the gradient when updating\n",
    "    for step in range(num_step+1):\n",
    "        theta_hist[step] = theta\n",
    "        loss_hist[step] = compute_square_loss(X, y, theta)\n",
    "        if grad_check and not grad_checker(X, y, theta):\n",
    "            break\n",
    "        theta = theta - alpha * compute_square_loss_gradient(X, y, theta)\n",
    "        \n",
    "    return theta_hist, loss_hist"
   ]
  },
  {
   "cell_type": "markdown",
   "metadata": {},
   "source": [
    "### Answer to Question_9"
   ]
  },
  {
   "cell_type": "code",
   "execution_count": 17,
   "metadata": {
    "scrolled": true
   },
   "outputs": [
    {
     "data": {
      "image/png": "[encoded data removed]",
      "text/plain": [
       "<Figure size 432x288 with 1 Axes>"
      ]
     },
     "metadata": {
      "needs_background": "light"
     },
     "output_type": "display_data"
    }
   ],
   "source": [
    "# If the step size is too large, gradient descent may not converge\n",
    "\n",
    "for alpha in [0.5, 0.1]:\n",
    "    theta_hist,loss_hist = batch_grad_descent(train_X, train_y, alpha=alpha, num_step=1000, grad_check=True)\n",
    "    plt.plot(range(len(loss_hist)),loss_hist,label=f'alpha={alpha}')\n",
    "plt.legend()\n",
    "plt.xlabel(\"iteration\")\n",
    "plt.ylabel(\"average square loss\")\n",
    "plt.show()"
   ]
  },
  {
   "cell_type": "code",
   "execution_count": 18,
   "metadata": {
    "scrolled": false
   },
   "outputs": [
    {
     "data": {
      "image/png": "[encoded data removed]",
      "text/plain": [
       "<Figure size 432x288 with 1 Axes>"
      ]
     },
     "metadata": {
      "needs_background": "light"
     },
     "output_type": "display_data"
    }
   ],
   "source": [
    "for alpha in [0.0001, 0.001, 0.01, 0.05]:\n",
    "    theta_hist,loss_hist=batch_grad_descent(train_X, train_y, alpha=alpha, num_step=1000, grad_check=True)\n",
    "    plt.plot(range(len(loss_hist)),loss_hist,label=f'alpha={alpha}')\n",
    "plt.legend()\n",
    "plt.title('The ASL on the training set as a function of iterations')\n",
    "plt.xlabel(\"iteration\")\n",
    "plt.ylabel(\"average square loss\")\n",
    "plt.show()"
   ]
  },
  {
   "cell_type": "markdown",
   "metadata": {},
   "source": [
    "Briefly summarize: \n",
    "\n",
    "- When the step size is too large, the gradient descent doesn't converge at all.\n",
    "- When the step size is small, the average sqaure loss would decrease and converge. In the safe step-size range for convergency, the larger the step size is, the faster the average square loss converges. Consider this example, when alpha = 0.05, ASL tends to converge after nearly 400 iterations; in contrast, when alpha = 0.0001, ASL does not converge after 1000 iterations."
   ]
  },
  {
   "cell_type": "markdown",
   "metadata": {},
   "source": [
    "### Answer to Question_10"
   ]
  },
  {
   "cell_type": "code",
   "execution_count": 19,
   "metadata": {},
   "outputs": [
    {
     "data": {
      "image/png": "[encoded data removed]",
      "text/plain": [
       "<Figure size 432x288 with 1 Axes>"
      ]
     },
     "metadata": {
      "needs_background": "light"
     },
     "output_type": "display_data"
    }
   ],
   "source": [
    "# iterations\n",
    "for alpha in [0.5, 0.1]:\n",
    "    theta_hist,loss_hist = batch_grad_descent(train_X, train_y, alpha=alpha, num_step=1000, grad_check=True)\n",
    "    loss_hist = [compute_square_loss(test_X, test_y, theta) for theta in theta_hist]\n",
    "    plt.plot(range(len(loss_hist)),loss_hist,label=f'alpha={alpha}');\n",
    "plt.legend()\n",
    "plt.title('The ASL on the test set as a function of iterations')\n",
    "plt.xlabel(\"iteration\")\n",
    "plt.ylabel(\"average square loss\")\n",
    "plt.show()"
   ]
  },
  {
   "cell_type": "code",
   "execution_count": 20,
   "metadata": {},
   "outputs": [
    {
     "data": {
      "image/png": "[encoded data removed]",
      "text/plain": [
       "<Figure size 432x288 with 1 Axes>"
      ]
     },
     "metadata": {
      "needs_background": "light"
     },
     "output_type": "display_data"
    }
   ],
   "source": [
    "# iterations\n",
    "for alpha in [0.0001, 0.001, 0.01, 0.05]:\n",
    "    theta_hist,loss_hist = batch_grad_descent(train_X, train_y, alpha=alpha, num_step=1000, grad_check=True)\n",
    "    loss_hist = [compute_square_loss(test_X, test_y, theta) for theta in theta_hist]\n",
    "    plt.plot(range(len(loss_hist)),loss_hist,label=f'alpha={alpha}');\n",
    "plt.legend()\n",
    "plt.title('The ASL on the test set as a function of iterations')\n",
    "plt.xlabel(\"iteration\")\n",
    "plt.ylabel(\"average square loss\")\n",
    "plt.show()"
   ]
  },
  {
   "cell_type": "markdown",
   "metadata": {},
   "source": [
    "### Answer to Question_11"
   ]
  },
  {
   "cell_type": "markdown",
   "metadata": {},
   "source": [
    "$$J_\\lambda(\\theta)=\\frac1m(X\\theta-y)^T(X\\theta-y)+\\lambda \\theta^T\\theta$$\n",
    "\n",
    "$$\\bigtriangledown J_\\lambda(\\theta)=\\frac{2}{m}(X^TX\\theta-X^Ty)+2\\lambda\\theta$$\n",
    "\n",
    "$$\\theta^{new}=\\theta-\\eta \\bigtriangledown J_\\lambda(\\theta)=\\theta-\\eta*(\\frac{2}{m}(X^TX\\theta-X^Ty)+2\\lambda\\theta)$$"
   ]
  },
  {
   "cell_type": "markdown",
   "metadata": {},
   "source": [
    "### Answer to Question_12"
   ]
  },
  {
   "cell_type": "code",
   "execution_count": 21,
   "metadata": {},
   "outputs": [],
   "source": [
    "### The gradient of regularized batch gradient descent\n",
    "def compute_regularized_square_loss_gradient(X, y, theta, lambda_reg):\n",
    "    \"\"\"\n",
    "    Compute the gradient of L2-regularized average square loss function given X, y and theta\n",
    "\n",
    "    Args:\n",
    "        X - the feature vector, 2D numpy array of size(num_instances, num_features)\n",
    "        y - the label vector, 1D numpy array of size(num_instances)\n",
    "        theta - the parameter vector, 1D numpy array of size(num_features)\n",
    "        lambda_reg - the regularization coefficient\n",
    "\n",
    "    Returns:\n",
    "        grad - gradient vector, 1D numpy array of size(num_features)\n",
    "    \"\"\"\n",
    "    #TODO\n",
    "    \n",
    "    m = X.shape[0]\n",
    "    grad = 2/m * (X.T @ X @ theta - X.T @ y) + 2 * lambda_reg * theta\n",
    "    \n",
    "    return grad"
   ]
  },
  {
   "cell_type": "markdown",
   "metadata": {},
   "source": [
    "### Answer to Question_13"
   ]
  },
  {
   "cell_type": "markdown",
   "metadata": {},
   "source": [
    "$$J_\\lambda(\\theta)=\\frac1m(X\\theta-y)^T(X\\theta-y)+\\lambda \\theta^T\\theta$$\n",
    "\n",
    "$$\\bigtriangledown J_\\lambda(\\theta)=\\frac{2}{m}(X^TX\\theta-X^Ty)+2\\lambda\\theta$$\n",
    "\n",
    "$$\\theta^{new}=\\theta-\\eta \\bigtriangledown J_\\lambda(\\theta)=\\theta-\\eta*(\\frac{2}{m}(X^TX\\theta-X^Ty)+2\\lambda\\theta)$$"
   ]
  },
  {
   "cell_type": "code",
   "execution_count": 22,
   "metadata": {},
   "outputs": [],
   "source": [
    "### The gradient of regularized batch gradient descent\n",
    "def compute_regularized_square_loss_gradient(X, y, theta, lambda_reg):\n",
    "    \"\"\"\n",
    "    Compute the gradient of L2-regularized average square loss function given X, y and theta\n",
    "\n",
    "    Args:\n",
    "        X - the feature vector, 2D numpy array of size(num_instances, num_features)\n",
    "        y - the label vector, 1D numpy array of size(num_instances)\n",
    "        theta - the parameter vector, 1D numpy array of size(num_features)\n",
    "        lambda_reg - the regularization coefficient\n",
    "\n",
    "    Returns:\n",
    "        grad - gradient vector, 1D numpy array of size(num_features)\n",
    "    \"\"\"\n",
    "    #TODO\n",
    "    \n",
    "    m = X.shape[0]\n",
    "    grad = 2/m * (X.T @ X @ theta - X.T @ y) + 2 * lambda_reg * theta\n",
    "    \n",
    "    return grad"
   ]
  },
  {
   "cell_type": "code",
   "execution_count": 23,
   "metadata": {},
   "outputs": [],
   "source": [
    "### Regularized batch gradient descent\n",
    "def regularized_grad_descent(X, y, alpha=0.05, lambda_reg=10**-2, num_step=1000):\n",
    "    \"\"\"\n",
    "    Args:\n",
    "        X - the feature vector, 2D numpy array of size(num_instances, num_features)\n",
    "        y - the label vector, 1D numpy array of size(num_instances)\n",
    "        alpha - step size in gradient descent\n",
    "        lambda_reg - the regularization coefficient\n",
    "        num_step - number of steps to run\n",
    "    \n",
    "    Returns:\n",
    "        theta_hist - the history of parameter vector, 2D numpy array of size(num_step+1, num_features)\n",
    "                     for instance, theta in step 0 should be theta_hist[0], theta in step(num_step+1) is theta_hist[-1]\n",
    "        loss hist - the history of average square loss function without the regularization term, 1D numpy array.\n",
    "    \"\"\"\n",
    "    num_instances, num_features = X.shape[0], X.shape[1]\n",
    "    theta = np.zeros(num_features) #Initialize theta\n",
    "    theta_hist = np.zeros((num_step+1, num_features)) #Initialize theta_hist\n",
    "    loss_hist = np.zeros(num_step+1) #Initialize loss_hist\n",
    "    #TODO\n",
    "    \n",
    "    for step in range(num_step+1):\n",
    "        theta_hist[step] = theta\n",
    "        loss_hist[step] = compute_square_loss(X, y, theta)\n",
    "        theta = theta - alpha * compute_regularized_square_loss_gradient(X, y, theta, lambda_reg)\n",
    "    \n",
    "    return theta_hist, loss_hist"
   ]
  },
  {
   "cell_type": "markdown",
   "metadata": {},
   "source": [
    "### Answer to Question_14"
   ]
  },
  {
   "cell_type": "code",
   "execution_count": 24,
   "metadata": {},
   "outputs": [
    {
     "data": {
      "text/plain": [
       "[1e-07, 1e-05, 0.001, 0.01, 0.1, 1, 10, 100]"
      ]
     },
     "execution_count": 24,
     "metadata": {},
     "output_type": "execute_result"
    }
   ],
   "source": [
    "power = [-7, -5, -3, -2, -1, 0, 1, 2]\n",
    "lambda_lst = [10**i for i in power]\n",
    "lambda_lst"
   ]
  },
  {
   "cell_type": "code",
   "execution_count": 25,
   "metadata": {
    "scrolled": false
   },
   "outputs": [
    {
     "data": {
      "image/png": "[encoded data removed]",
      "text/plain": [
       "<Figure size 1440x720 with 8 Axes>"
      ]
     },
     "metadata": {
      "needs_background": "light"
     },
     "output_type": "display_data"
    }
   ],
   "source": [
    "fig = plt.figure(figsize=(20,10))\n",
    "plot_i = 1\n",
    "for lambda_ in lambda_lst:\n",
    "    theta_hist, loss_hist = regularized_grad_descent(train_X, train_y, alpha=0.05, lambda_reg=lambda_, num_step=1000)\n",
    "    loss_hist_test = [compute_square_loss(test_X, test_y, theta) for theta in theta_hist]\n",
    "    plt.subplot(2, 4, plot_i)\n",
    "    plot_i += 1\n",
    "    plt.plot(list(range(len(loss_hist))), loss_hist, label='train_data_with_regularization')\n",
    "    plt.plot(list(range(len(loss_hist_test))), loss_hist_test, label='test_data')\n",
    "    plt.xlabel('iteration')\n",
    "    plt.ylabel('avergae square loss')\n",
    "    plt.title(f'lambda = {lambda_}')\n",
    "    plt.legend()"
   ]
  },
  {
   "cell_type": "markdown",
   "metadata": {},
   "source": [
    "- It is obvious that when lambda >= 1, the regularization is so strong that the model could not learn any more. \n",
    "- Next, we zoom in the best range where $\\lambda$ is in (1e-07, 1e-02)."
   ]
  },
  {
   "cell_type": "code",
   "execution_count": 26,
   "metadata": {},
   "outputs": [
    {
     "data": {
      "text/plain": [
       "[1e-07, 1e-05, 0.001, 0.01, 0.1]"
      ]
     },
     "execution_count": 26,
     "metadata": {},
     "output_type": "execute_result"
    }
   ],
   "source": [
    "power = [-7, -5, -3, -2, -1]\n",
    "lambda_lst = [10**i for i in power]\n",
    "lambda_lst"
   ]
  },
  {
   "cell_type": "code",
   "execution_count": 27,
   "metadata": {
    "scrolled": true
   },
   "outputs": [
    {
     "data": {
      "image/png": "[encoded data removed]",
      "text/plain": [
       "<Figure size 1152x360 with 2 Axes>"
      ]
     },
     "metadata": {
      "needs_background": "light"
     },
     "output_type": "display_data"
    }
   ],
   "source": [
    "fig = plt.figure(figsize=(16,5))\n",
    "ax1 = fig.add_subplot(1,2,1)\n",
    "ax2 = fig.add_subplot(1,2,2)\n",
    "for lambda_ in lambda_lst:\n",
    "    theta_hist, loss_hist = regularized_grad_descent(train_X, train_y, alpha=0.05, lambda_reg=lambda_, num_step=1000)\n",
    "    loss_hist_test = [compute_square_loss(test_X, test_y, theta) for theta in theta_hist]\n",
    "    ax1.plot(list(range(len(loss_hist))), loss_hist, label=f'lambda = {lambda_}')\n",
    "    ax2.plot(list(range(len(loss_hist_test))), loss_hist_test, label=f'lambda = {lambda_}')\n",
    "    ax1.set_xlabel('iteration')\n",
    "    ax2.set_xlabel('iteration')\n",
    "    ax1.set_title('Train')\n",
    "    ax2.set_title('Train')\n",
    "    ax1.set_ylabel('avergae square loss')\n",
    "    ax2.set_ylabel('avergae square loss')\n",
    "    ax1.legend()\n",
    "    ax2.legend()\n",
    "plt.show()\n"
   ]
  },
  {
   "cell_type": "markdown",
   "metadata": {},
   "source": [
    "In terms of overfitting,\n",
    "\n",
    "- Models with different lambda all converge on the train set, while some of them show diverge on the test set. \n",
    "- In other words, after fixed times of iterations, some of the models tend to overfit.\n",
    "- To analyze, this trend of overfitting highly relates to the value of lambda. The larger the lambda is, the stronger the regularization is, meaning overfitting becomes less possible as the red curve showns. However, there is also a upper bound for lambda. When the lambda is too large(0.1), the strong regularizer would unable the model to learn, leading to underfitting as the purple curve showns."
   ]
  },
  {
   "cell_type": "markdown",
   "metadata": {},
   "source": [
    "### Answer to Question_15"
   ]
  },
  {
   "cell_type": "markdown",
   "metadata": {},
   "source": [
    "- From Answer to Question_14, we can see that lambda = 0.01 works nicely. \n",
    "- When lambda = 0.1, the model underfits; when lambda = 0.001, the model overfits. \n",
    "- Hence, in this answer, we want to zoom in the range round lambda = 0.01. "
   ]
  },
  {
   "cell_type": "code",
   "execution_count": 28,
   "metadata": {
    "scrolled": true
   },
   "outputs": [
    {
     "data": {
      "text/plain": [
       "array([0.001     , 0.00302041, 0.00504082, 0.00706122, 0.00908163,\n",
       "       0.01110204, 0.01312245, 0.01514286, 0.01716327, 0.01918367,\n",
       "       0.02120408, 0.02322449, 0.0252449 , 0.02726531, 0.02928571,\n",
       "       0.03130612, 0.03332653, 0.03534694, 0.03736735, 0.03938776,\n",
       "       0.04140816, 0.04342857, 0.04544898, 0.04746939, 0.0494898 ,\n",
       "       0.0515102 , 0.05353061, 0.05555102, 0.05757143, 0.05959184,\n",
       "       0.06161224, 0.06363265, 0.06565306, 0.06767347, 0.06969388,\n",
       "       0.07171429, 0.07373469, 0.0757551 , 0.07777551, 0.07979592,\n",
       "       0.08181633, 0.08383673, 0.08585714, 0.08787755, 0.08989796,\n",
       "       0.09191837, 0.09393878, 0.09595918, 0.09797959, 0.1       ])"
      ]
     },
     "execution_count": 28,
     "metadata": {},
     "output_type": "execute_result"
    }
   ],
   "source": [
    "lambda_lst = np.linspace(10**-3, 10**-1)\n",
    "lambda_lst"
   ]
  },
  {
   "cell_type": "code",
   "execution_count": 29,
   "metadata": {
    "scrolled": true
   },
   "outputs": [
    {
     "data": {
      "image/png": "[encoded data removed]",
      "text/plain": [
       "<Figure size 432x288 with 1 Axes>"
      ]
     },
     "metadata": {
      "needs_background": "light"
     },
     "output_type": "display_data"
    }
   ],
   "source": [
    "loss_hist_train = []\n",
    "loss_hist_test = []\n",
    "for lambda_ in lambda_lst:\n",
    "    theta_hist, loss_hist = regularized_grad_descent(train_X, train_y, alpha=0.05, lambda_reg=lambda_, num_step=1000)\n",
    "    loss_hist_train.append(loss_hist[-1])\n",
    "    loss_hist_test.append(compute_square_loss(test_X, test_y, theta_hist[-1]))\n",
    "plt.plot(np.log(lambda_lst), loss_hist_train, label='train_set');\n",
    "plt.plot(np.log(lambda_lst), loss_hist_test, label='test_set');\n",
    "plt.xlabel('Log(λ)');\n",
    "plt.ylabel('average square loss at the end of training');\n",
    "plt.legend();"
   ]
  },
  {
   "cell_type": "code",
   "execution_count": 30,
   "metadata": {},
   "outputs": [
    {
     "name": "stdout",
     "output_type": "stream",
     "text": [
      "The minimum test loss is 2.440312621658701.\n",
      "The optimal chosen lambda is 0.02322448979591837.\n"
     ]
    }
   ],
   "source": [
    "print(f'The minimum test loss is {loss_hist_test[np.argmin(loss_hist_test)]}.')\n",
    "print(f'The optimal chosen lambda is {lambda_lst[np.argmin(loss_hist_test)]}.')"
   ]
  },
  {
   "cell_type": "markdown",
   "metadata": {},
   "source": [
    "### Answer to Question_16"
   ]
  },
  {
   "cell_type": "code",
   "execution_count": 31,
   "metadata": {
    "scrolled": true
   },
   "outputs": [
    {
     "data": {
      "image/png": "[encoded data removed]",
      "text/plain": [
       "<Figure size 432x288 with 1 Axes>"
      ]
     },
     "metadata": {
      "needs_background": "light"
     },
     "output_type": "display_data"
    }
   ],
   "source": [
    "loss_hist_train = []\n",
    "loss_hist_test = []\n",
    "loss_hist_test_min = []\n",
    "\n",
    "for lambda_ in lambda_lst:\n",
    "    theta_hist, loss_hist = regularized_grad_descent(train_X, train_y, alpha=0.05, lambda_reg=lambda_, num_step=1000)\n",
    "    loss_hist_test_lst = [compute_square_loss(test_X, test_y, theta) for theta in theta_hist]\n",
    "    \n",
    "    loss_hist_train.append(loss_hist[-1])\n",
    "    loss_hist_test.append(compute_square_loss(test_X, test_y, theta_hist[-1]))\n",
    "    loss_hist_test_min.append(np.min(loss_hist_test_lst))\n",
    "\n",
    "\n",
    "plt.plot(np.log(lambda_lst), loss_hist_train, label='train_set');\n",
    "plt.plot(np.log(lambda_lst), loss_hist_test, label='test_set');\n",
    "plt.plot(np.log(lambda_lst), loss_hist_test_min, label='early_stop');\n",
    "\n",
    "plt.xlabel('Log(λ)');\n",
    "plt.ylabel('average square loss');\n",
    "plt.legend();"
   ]
  },
  {
   "cell_type": "code",
   "execution_count": 32,
   "metadata": {},
   "outputs": [
    {
     "name": "stdout",
     "output_type": "stream",
     "text": [
      "The minimum test loss is 2.439108529720412.\n",
      "The optimal chosen lambda is 0.02322448979591837.\n"
     ]
    }
   ],
   "source": [
    "print(f'The minimum test loss is {loss_hist_test_min[np.argmin(loss_hist_test_min)]}.')\n",
    "print(f'The optimal chosen lambda is {lambda_lst[np.argmin(loss_hist_test_min)]}.')"
   ]
  },
  {
   "cell_type": "markdown",
   "metadata": {},
   "source": [
    "- We can see that the result is nearly the same as the previous answer.\n",
    "- It proves that early_stop works alternatively as a regularizer."
   ]
  },
  {
   "cell_type": "markdown",
   "metadata": {},
   "source": [
    "### Answer to Question_17"
   ]
  },
  {
   "cell_type": "markdown",
   "metadata": {
    "slideshow": {
     "slide_type": "slide"
    }
   },
   "source": [
    "- I would select lambda based on the first method (at the end of training) rather than the second method (early stop). \n",
    "- In practice, there are chances that the second method stucks when it meets the local minimum. The model would return the result, disgarding of the global minimum."
   ]
  },
  {
   "cell_type": "markdown",
   "metadata": {},
   "source": [
    "### Answer to Question_18 (Optional)"
   ]
  },
  {
   "cell_type": "markdown",
   "metadata": {},
   "source": [
    "$$J(\\theta)=\\frac1m \\Sigma_{i=1}^m(h_{\\theta}(x_i)-y_i)^2+\\lambda\\theta^T\\theta$$\n",
    "$$=\\frac1m \\Sigma_{i=1}^m((h_{\\theta}(x_i)-y_i)^2+\\lambda\\theta^T\\theta)$$\n",
    "\n",
    "$$f_i(\\theta)=(h_{\\theta}(x_i)-y_i)^2+\\lambda\\theta^T\\theta$$"
   ]
  },
  {
   "cell_type": "markdown",
   "metadata": {},
   "source": [
    "### Answer to Question_19 (Optional)"
   ]
  },
  {
   "cell_type": "markdown",
   "metadata": {},
   "source": [
    "$$E[\\bigtriangledown f_i(\\theta)]=\\Sigma_{j=1}^m P(i=j)\\bigtriangledown f_i(\\theta)=\\frac1m \\Sigma_{i=1}^m \\bigtriangledown f_i(\\theta)=\\bigtriangledown J_\\lambda(\\theta)$$"
   ]
  },
  {
   "cell_type": "markdown",
   "metadata": {},
   "source": [
    "### Answer to Question_20 (Optional)"
   ]
  },
  {
   "cell_type": "markdown",
   "metadata": {},
   "source": [
    "$$f_i(\\theta)=(\\theta^Tx_i-y_i)^T(\\theta^Tx_i-y_i)+\\lambda\\theta^T\\theta$$\n",
    "\n",
    "$$\\bigtriangledown f_i(\\theta)=2(\\theta_i^Tx_i-y_i)x_i+2\\lambda\\theta_i$$\n",
    "\n",
    "$$\\theta^{new}=\\theta-2\\eta*[(\\theta_i^Tx_i-y_i)x_i+\\lambda\\theta_i]$$"
   ]
  },
  {
   "cell_type": "markdown",
   "metadata": {},
   "source": [
    "### Answer to Question_21 (Optional)"
   ]
  },
  {
   "cell_type": "code",
   "execution_count": 33,
   "metadata": {},
   "outputs": [],
   "source": [
    "def stochastic_grad_descent(X, y, alpha=0.01, lambda_reg=10**-2, num_epoch=1000):\n",
    "    \"\"\"\n",
    "    In this question you will implement stochastic gradient descent with regularization term\n",
    "\n",
    "    Args:\n",
    "        X - the feature vector, 2D numpy array of size (num_instances, num_features)\n",
    "        y - the label vector, 1D numpy array of size (num_instances)\n",
    "        alpha - string or float, step size in gradient descent\n",
    "                NOTE: In SGD, it's not a good idea to use a fixed step size. Usually it's set to 1/sqrt(t) or 1/t\n",
    "                if alpha is a float, then the step size in every step is the float.\n",
    "                if alpha == \"1/sqrt(t)\", alpha = 1/sqrt(t).\n",
    "                if alpha == \"1/t\", alpha = 1/t.\n",
    "        lambda_reg - the regularization coefficient\n",
    "        num_epoch - number of epochs to go through the whole training set\n",
    "\n",
    "    Returns:\n",
    "        theta_hist - the history of parameter vector, 3D numpy array of size (num_epoch, num_instances, num_features)\n",
    "                     for instance, theta in epoch 0 should be theta_hist[0], theta in epoch (num_epoch) is theta_hist[-1]\n",
    "        loss hist - the history of loss function vector, 2D numpy array of size (num_epoch, num_instances)\n",
    "    \"\"\"\n",
    "    num_instances, num_features = X.shape[0], X.shape[1]\n",
    "    theta = np.ones(num_features) #Initialize theta\n",
    "\n",
    "    theta_hist = np.zeros((num_epoch, num_instances, num_features)) #Initialize theta_hist\n",
    "    loss_hist = np.zeros((num_epoch, num_instances)) #Initialize loss_hist\n",
    "    #TODO\n",
    "    \n",
    "    \n",
    "    step = 1\n",
    "    for i in range(num_epoch):\n",
    "        shuffle = np.random.permutation(num_instances)\n",
    "        for row in shuffle:\n",
    "            if isinstance(alpha, str):\n",
    "                if alpha == '0.1/sqrt(step)':\n",
    "                    alpha = 0.1/np.sqrt(step)\n",
    "                else:\n",
    "                    alpha = 0.1/step\n",
    "            else:\n",
    "                alpha = alpha\n",
    "                \n",
    "            theta = theta - alpha * compute_regularized_square_loss_gradient(X[row,:], y[row], theta, lambda_reg) \n",
    "            theta_hist[i,j] = theta\n",
    "            loss_hist[i,j] = compute_square_loss(X, y, theta) + lambda_reg * np.sum(theta ** 2)\n",
    "            step += 1\n",
    "            \n",
    "    return theta_hist, loss_hist"
   ]
  },
  {
   "cell_type": "markdown",
   "metadata": {},
   "source": [
    "### Answer to Question_22 (Optional)"
   ]
  },
  {
   "cell_type": "code",
   "execution_count": null,
   "metadata": {},
   "outputs": [],
   "source": []
  },
  {
   "cell_type": "markdown",
   "metadata": {},
   "source": [
    "### Answer to Question_23"
   ]
  },
  {
   "cell_type": "code",
   "execution_count": 34,
   "metadata": {
    "scrolled": true
   },
   "outputs": [
    {
     "name": "stdout",
     "output_type": "stream",
     "text": [
      "1003-HW2-WenxinZhang.ipynb           mnist_classification_source_code.py\r\n",
      "hw2.pdf                              ridge_regression_dataset.csv\r\n",
      "hw2.tex                              skeleton_code.py\r\n",
      "math_commands.tex\r\n"
     ]
    }
   ],
   "source": [
    "ls "
   ]
  },
  {
   "cell_type": "code",
   "execution_count": 35,
   "metadata": {},
   "outputs": [],
   "source": [
    "import numpy as np\n",
    "from sklearn.datasets import fetch_openml\n",
    "from sklearn.linear_model import SGDClassifier\n",
    "from sklearn.model_selection import train_test_split\n",
    "from sklearn.preprocessing import StandardScaler"
   ]
  },
  {
   "cell_type": "code",
   "execution_count": 36,
   "metadata": {},
   "outputs": [
    {
     "data": {
      "text/plain": [
       "'0.24.1'"
      ]
     },
     "execution_count": 36,
     "metadata": {},
     "output_type": "execute_result"
    }
   ],
   "source": [
    "import sklearn\n",
    "sklearn.__version__"
   ]
  },
  {
   "cell_type": "code",
   "execution_count": 37,
   "metadata": {},
   "outputs": [],
   "source": [
    "def pre_process_mnist_01():\n",
    "    \"\"\"\n",
    "    Load the mnist datasets, selects the classes 0 and 1 \n",
    "    and normalize the data.\n",
    "    Args: none\n",
    "    Outputs: \n",
    "        X_train: np.array of size (n_training_samples, n_features)\n",
    "        X_test: np.array of size (n_test_samples, n_features)\n",
    "        y_train: np.array of size (n_training_samples)\n",
    "        y_test: np.array of size (n_test_samples)\n",
    "    \"\"\"\n",
    "    X_mnist, y_mnist = fetch_openml('mnist_784', version=1, \n",
    "                                    return_X_y=True, as_frame=False)\n",
    "    indicator_01 = (y_mnist == '0') + (y_mnist == '1')\n",
    "    X_mnist_01 = X_mnist[indicator_01]\n",
    "    y_mnist_01 = y_mnist[indicator_01]\n",
    "    X_train, X_test, y_train, y_test = train_test_split(X_mnist_01, y_mnist_01,\n",
    "                                                        test_size=0.33,\n",
    "                                                        shuffle=False)\n",
    "\n",
    "    scaler = StandardScaler()\n",
    "    X_train = scaler.fit_transform(X_train) \n",
    "    X_test = scaler.transform(X_test)\n",
    "\n",
    "    y_test = 2 * np.array([int(y) for y in y_test]) - 1\n",
    "    y_train = 2 * np.array([int(y) for y in y_train]) - 1\n",
    "    return X_train, X_test, y_train, y_test"
   ]
  },
  {
   "cell_type": "code",
   "execution_count": 38,
   "metadata": {
    "scrolled": true
   },
   "outputs": [],
   "source": [
    "X_train, X_test, y_train, y_test = pre_process_mnist_01()"
   ]
  },
  {
   "cell_type": "code",
   "execution_count": 39,
   "metadata": {},
   "outputs": [],
   "source": [
    "# X_train.shape # (9902, 784)\n",
    "# X_test.shape # (4878, 784)\n",
    "# y_train # -1, 1\n",
    "# y_test # -1, 1"
   ]
  },
  {
   "cell_type": "code",
   "execution_count": 40,
   "metadata": {},
   "outputs": [
    {
     "data": {
      "text/plain": [
       "<matplotlib.image.AxesImage at 0x7fc33d793ed0>"
      ]
     },
     "execution_count": 40,
     "metadata": {},
     "output_type": "execute_result"
    },
    {
     "data": {
      "image/png": "[encoded data removed]",
      "text/plain": [
       "<Figure size 432x288 with 1 Axes>"
      ]
     },
     "metadata": {
      "needs_background": "light"
     },
     "output_type": "display_data"
    }
   ],
   "source": [
    "sample_1 = X_train[1, :] # (9902, 784)\n",
    "sample_1.shape\n",
    "plt.imshow(sample_1.reshape(28, 28)) # reshape the sample"
   ]
  },
  {
   "cell_type": "markdown",
   "metadata": {},
   "source": [
    "### Proof\n",
    "\n",
    "$$l_i(logistic) = log(1+e^{-m_i}); \\ \\ where \\ m_i = y_i h_{\\theta,b}(x_i)$$\n",
    "\n",
    "$$Thus, \\ l_i(logistic) = log(1+e^{-y_i h_{\\theta,b}(x_i)})$$\n",
    "\n",
    "$$When \\ y_i = -1, l_i(logistic) = log(1+e^{h_{\\theta,b}(x_i)}) = \\frac{1}{2}(1-y_i)log(1+e^{h_{\\theta,b}(x_i)}), \\ where \\ \\frac{1}{2}(1+y_i)log(1+e^{-h_{\\theta,b}(x_i)}) = 0$$\n",
    "\n",
    "$$When \\ y_i = 1, l_i(logistic) = log(1+e^{-h_{\\theta,b}(x_i)}) = \\frac{1}{2}(1+y_i)log(1+e^{-h_{\\theta,b}(x_i)}), \\ where \\ \\frac{1}{2}(1-y_i)log(1+e^{h_{\\theta,b}(x_i)}) = 0$$\n",
    "\n",
    "$$Hence, \\ we \\ can \\ conclude \\ that: $$\n",
    "$$l_i(logistic) = \\frac{1}{2}[(1+y_i)log(1+e^{-h_{\\theta,b}(x_i)}) + (1-y_i)log(1+e^{h_{\\theta,b}(x_i)})]$$\n",
    "\n",
    "$$Considering \\ there \\ are \\ m \\ training \\ data \\ points, \\ we \\ can \\ write \\ objective \\ function \\ as:$$\n",
    "\n",
    "$$L{(\\theta)} = \\frac{1}{2m} \\sum_{i=1}^m [(1+y_i)log(1+e^{-h_{\\theta,b}(x_i)}) + (1-y_i)log(1+e^{h_{\\theta,b}(x_i)})]$$"
   ]
  },
  {
   "cell_type": "markdown",
   "metadata": {},
   "source": [
    "### Answer to Question_24"
   ]
  },
  {
   "cell_type": "markdown",
   "metadata": {},
   "source": [
    "$$L{(\\theta)} = \\frac{1}{2m} \\sum_{i=1}^m [(1+y_i)log(1+e^{-h_{\\theta,b}(x_i)}) + (1-y_i)log(1+e^{h_{\\theta,b}(x_i)})] + \\alpha \\|{\\theta}\\|$$\n"
   ]
  },
  {
   "cell_type": "markdown",
   "metadata": {},
   "source": [
    "### Answer to Question_25"
   ]
  },
  {
   "cell_type": "code",
   "execution_count": 41,
   "metadata": {
    "scrolled": false
   },
   "outputs": [
    {
     "name": "stdout",
     "output_type": "stream",
     "text": [
      "-- Epoch 1\n",
      "Norm: 0.68, NNZs: 277, Bias: 0.010384, T: 9902, Avg. loss: 0.041480\n",
      "Total training time: 0.04 seconds.\n",
      "-- Epoch 2\n",
      "Norm: 0.77, NNZs: 258, Bias: 0.010147, T: 19804, Avg. loss: 0.031832\n",
      "Total training time: 0.08 seconds.\n",
      "-- Epoch 3\n",
      "Norm: 0.83, NNZs: 240, Bias: 0.010186, T: 29706, Avg. loss: 0.030132\n",
      "Total training time: 0.13 seconds.\n",
      "-- Epoch 4\n",
      "Norm: 0.88, NNZs: 230, Bias: 0.010375, T: 39608, Avg. loss: 0.029332\n",
      "Total training time: 0.17 seconds.\n",
      "-- Epoch 5\n",
      "Norm: 0.92, NNZs: 224, Bias: 0.010624, T: 49510, Avg. loss: 0.028740\n",
      "Total training time: 0.21 seconds.\n",
      "-- Epoch 6\n",
      "Norm: 0.95, NNZs: 218, Bias: 0.010927, T: 59412, Avg. loss: 0.028363\n",
      "Total training time: 0.25 seconds.\n",
      "-- Epoch 7\n",
      "Norm: 0.98, NNZs: 211, Bias: 0.011245, T: 69314, Avg. loss: 0.027990\n",
      "Total training time: 0.30 seconds.\n",
      "-- Epoch 8\n",
      "Norm: 1.01, NNZs: 209, Bias: 0.011597, T: 79216, Avg. loss: 0.027769\n",
      "Total training time: 0.35 seconds.\n",
      "Convergence after 8 epochs took 0.35 seconds\n",
      "train:  0.00222177337911533\ttest:  0.001025010250102501\n",
      "\n",
      "****************************************************************************************************\n",
      "Check whether the function classification_error works well:\n",
      "Congratulations, the function classification_error is absolutely right!\n"
     ]
    }
   ],
   "source": [
    "def classification_error(clf, X, y):\n",
    "    ## TODO\n",
    "    \n",
    "    y_pre = clf.predict(X)\n",
    "    loss = [int(y_pre[i] != y[i]) for i in range(len(y))]\n",
    "\n",
    "    return np.sum(loss)/len(loss)\n",
    "\n",
    "\n",
    "def check_func_classification_error(clf, X, y):\n",
    "    print('')\n",
    "    print('*'*100)\n",
    "    print('Check whether the function classification_error works well:') \n",
    "    \n",
    "    train_right = 1 - clf.score(X, y)\n",
    "    train_func = classification_error(clf, X, y)\n",
    "    \n",
    "    if round(train_func,5) == round(train_right,5):\n",
    "        print('Congratulations, the function classification_error is absolutely right!')\n",
    "    else:\n",
    "        print('Sorry, the function classification_error is wrong, please double check it!')\n",
    "        \n",
    "    return \n",
    "        \n",
    "clf = SGDClassifier(loss='log', max_iter=1000, \n",
    "                    tol=1e-3,\n",
    "                    penalty='l1', alpha=0.01, \n",
    "                    learning_rate='invscaling', \n",
    "                    power_t=0.5,                \n",
    "                    eta0=0.01,\n",
    "                    verbose=1)\n",
    "clf.fit(X_train, y_train)\n",
    "\n",
    "\n",
    "test = classification_error(clf, X_test, y_test)\n",
    "train = classification_error(clf, X_train, y_train)\n",
    "print('train: ', train, end='\\t')\n",
    "print('test: ', test)\n",
    "\n",
    "check_func_classification_error(clf, X_train, y_train)"
   ]
  },
  {
   "cell_type": "markdown",
   "metadata": {},
   "source": [
    "### Answer to Question_26"
   ]
  },
  {
   "cell_type": "code",
   "execution_count": 42,
   "metadata": {},
   "outputs": [],
   "source": [
    "def sub_sample(N_train, X_train, y_train):\n",
    "    \"\"\"\n",
    "    Subsample the training data to keep only N first elements\n",
    "    Args: none\n",
    "    Outputs: \n",
    "        X_train: np.array of size (n_training_samples, n_features)\n",
    "        X_test: np.array of size (n_test_samples, n_features)\n",
    "        y_train: np.array of size (n_training_samples)\n",
    "        y_test: np.array of size (n_test_samples)\n",
    "    \"\"\"\n",
    "    assert N_train <= X_train.shape[0]\n",
    "    return X_train[:N_train, :], y_train[:N_train]"
   ]
  },
  {
   "cell_type": "code",
   "execution_count": 43,
   "metadata": {},
   "outputs": [],
   "source": [
    "X_train_sub, y_train_sub = sub_sample(N_train=100, X_train=X_train, y_train=y_train)\n",
    "\n",
    "# X_train_sub.shape # (100, 784)\n",
    "# y_train_sub.shape # (100,)"
   ]
  },
  {
   "cell_type": "markdown",
   "metadata": {},
   "source": [
    "$$L{(\\theta)} = \\frac{1}{2m} \\sum_{i=1}^m [(1+y_i)log(1+e^{-h_{\\theta,b}(x_i)}) + (1-y_i)log(1+e^{h_{\\theta,b}(x_i)})] + \\alpha \\|{\\theta}\\|$$\n",
    "\n"
   ]
  },
  {
   "cell_type": "code",
   "execution_count": 44,
   "metadata": {},
   "outputs": [],
   "source": [
    "def test_classification_error(alpha_lst_, X_train_, y_train_, X_test_, y_test_, plot_):\n",
    "    # alpha:\n",
    "    # The higher the value, the stronger the regularization.\n",
    "    error_mean = []\n",
    "    error_std = []\n",
    "    theta_lst = []\n",
    "    for alpha_ in alpha_lst_:\n",
    "        clf = SGDClassifier(loss='log', max_iter=1000, \n",
    "                            tol=1e-3,\n",
    "                            penalty='l1', alpha=alpha_, \n",
    "                            learning_rate='invscaling', \n",
    "                            power_t=0.5,                \n",
    "                            eta0=0.01,\n",
    "                            verbose=0)\n",
    "        test_error = []\n",
    "        for _ in range(10):\n",
    "            clf.fit(X_train_, y_train_)\n",
    "            test_error.append(classification_error(clf, X_test_, y_test_))\n",
    "            if _ == 0:\n",
    "                theta_lst.append(clf.coef_)\n",
    "                \n",
    "        error_mean.append(np.mean(test_error))\n",
    "        error_std.append(np.std(test_error))\n",
    "        \n",
    "    if plot_:\n",
    "        plt.errorbar(np.log(alpha_lst), error_mean, error_std)\n",
    "        plt.xlabel('Log(alpha)')\n",
    "        plt.ylabel('Test Classifier Error')\n",
    "        plt.title('Error Bar of Test Classifier Error')\n",
    "        plt.show();\n",
    "                 \n",
    "    return theta_lst, error_mean"
   ]
  },
  {
   "cell_type": "code",
   "execution_count": 45,
   "metadata": {
    "scrolled": false
   },
   "outputs": [
    {
     "data": {
      "image/png": "[encoded data removed]",
      "text/plain": [
       "<Figure size 432x288 with 1 Axes>"
      ]
     },
     "metadata": {
      "needs_background": "light"
     },
     "output_type": "display_data"
    }
   ],
   "source": [
    "alpha_lst = np.linspace(start=10**(-4), stop=10**(-1), num=10) \n",
    "test_classification_error(alpha_lst, X_train_sub, y_train_sub, X_test, y_test, True);"
   ]
  },
  {
   "cell_type": "markdown",
   "metadata": {},
   "source": [
    "### Answer to Question_27"
   ]
  },
  {
   "cell_type": "markdown",
   "metadata": {},
   "source": [
    "Stochastic gradient descent is actually Minibatch method with N = 1, meaning it uses only a single randomly chosen point to determine its step direction. Here, considering that we only take 100 training subset into account, by repeating the experiment 10 times, we reduce the randomness of the chosen point by changing N = 10 (10% of Batch)."
   ]
  },
  {
   "cell_type": "markdown",
   "metadata": {},
   "source": [
    "### Answer to Question_28"
   ]
  },
  {
   "cell_type": "code",
   "execution_count": 46,
   "metadata": {},
   "outputs": [
    {
     "data": {
      "text/plain": [
       "[0.005248052480524805,\n",
       " 0.004592045920459204,\n",
       " 0.004161541615416154,\n",
       " 0.003751537515375154,\n",
       " 0.003546535465354653,\n",
       " 0.003095530955309553,\n",
       " 0.0031980319803198037,\n",
       " 0.0023985239852398524,\n",
       " 0.002173021730217302,\n",
       " 0.002132021320213202]"
      ]
     },
     "execution_count": 46,
     "metadata": {},
     "output_type": "execute_result"
    }
   ],
   "source": [
    "theta_lst, error_mean = test_classification_error(alpha_lst, X_train_sub, y_train_sub, X_test, y_test, False)\n",
    "error_mean"
   ]
  },
  {
   "cell_type": "code",
   "execution_count": 47,
   "metadata": {},
   "outputs": [
    {
     "data": {
      "text/plain": [
       "0.1"
      ]
     },
     "execution_count": 47,
     "metadata": {},
     "output_type": "execute_result"
    }
   ],
   "source": [
    "alpha_lst[error_mean.index(np.min(error_mean))]"
   ]
  },
  {
   "cell_type": "markdown",
   "metadata": {},
   "source": [
    "### Answer to Question_29"
   ]
  },
  {
   "cell_type": "code",
   "execution_count": 48,
   "metadata": {},
   "outputs": [],
   "source": [
    "theta_lst, error_mean = test_classification_error(alpha_lst, X_train_sub, y_train_sub, X_test, y_test, False)"
   ]
  },
  {
   "cell_type": "code",
   "execution_count": 49,
   "metadata": {
    "scrolled": false
   },
   "outputs": [
    {
     "data": {
      "image/png": "[encoded data removed]",
      "text/plain": [
       "<Figure size 1440x432 with 20 Axes>"
      ]
     },
     "metadata": {
      "needs_background": "light"
     },
     "output_type": "display_data"
    }
   ],
   "source": [
    "fig = plt.figure(figsize=(20,6))\n",
    "for alpha, theta, i in zip(alpha_lst, theta_lst, list(range(10))):\n",
    "    plt.subplot(2,5,i+1)\n",
    "    scale = np.abs(theta).max()\n",
    "    plt.imshow(theta.reshape(28, 28), cmap=plt.cm.RdBu, vmax=scale, vmin=-scale)\n",
    "    plt.title(f'alpha={round(alpha,3)}')\n",
    "    plt.colorbar()\n",
    "    plt.tight_layout()\n",
    "plt.show()"
   ]
  },
  {
   "cell_type": "markdown",
   "metadata": {},
   "source": [
    "### Answer to Question_30"
   ]
  },
  {
   "cell_type": "markdown",
   "metadata": {},
   "source": [
    "From above, we can see that:\n",
    "- In each plot, the red part represents 0, while the blue part represents 1. \n",
    "- The red part and the blue part appears distinctively on each plot, showing that our classifier works well to find the latent patterns of 0 and 1.\n",
    "- As the regularization part becomes larger, it is shown that color range of the plot becomes smaller. This pheonomenon reflects that our theta vector is getting sparser; and its norm is getting smaller.\n",
    "- When alpha = 0.1(biggest value in our chosen range), only the most important features/ patterns that distinguish 0 and 1 are kept."
   ]
  },
  {
   "cell_type": "code",
   "execution_count": null,
   "metadata": {},
   "outputs": [],
   "source": []
  }
 ],
 "metadata": {
  "kernelspec": {
   "display_name": "Python 3",
   "language": "python",
   "name": "python3"
  },
  "language_info": {
   "codemirror_mode": {
    "name": "ipython",
    "version": 3
   },
   "file_extension": ".py",
   "mimetype": "text/x-python",
   "name": "python",
   "nbconvert_exporter": "python",
   "pygments_lexer": "ipython3",
   "version": "3.8.3"
  },
  "latex_envs": {
   "LaTeX_envs_menu_present": true,
   "autoclose": false,
   "autocomplete": true,
   "bibliofile": "biblio.bib",
   "cite_by": "apalike",
   "current_citInitial": 1,
   "eqLabelWithNumbers": true,
   "eqNumInitial": 1,
   "hotkeys": {
    "equation": "Ctrl-E",
    "itemize": "Ctrl-I"
   },
   "labels_anchors": false,
   "latex_user_defs": false,
   "report_style_numbering": false,
   "user_envs_cfg": false
  },
  "toc": {
   "base_numbering": 1,
   "nav_menu": {},
   "number_sections": true,
   "sideBar": true,
   "skip_h1_title": false,
   "title_cell": "Table of Contents",
   "title_sidebar": "Contents",
   "toc_cell": false,
   "toc_position": {},
   "toc_section_display": true,
   "toc_window_display": false
  },
  "varInspector": {
   "cols": {
    "lenName": 16,
    "lenType": 16,
    "lenVar": 40
   },
   "kernels_config": {
    "python": {
     "delete_cmd_postfix": "",
     "delete_cmd_prefix": "del ",
     "library": "var_list.py",
     "varRefreshCmd": "print(var_dic_list())"
    },
    "r": {
     "delete_cmd_postfix": ") ",
     "delete_cmd_prefix": "rm(",
     "library": "var_list.r",
     "varRefreshCmd": "cat(var_dic_list()) "
    }
   },
   "types_to_exclude": [
    "module",
    "function",
    "builtin_function_or_method",
    "instance",
    "_Feature"
   ],
   "window_display": false
  }
 },
 "nbformat": 4,
 "nbformat_minor": 4
}
